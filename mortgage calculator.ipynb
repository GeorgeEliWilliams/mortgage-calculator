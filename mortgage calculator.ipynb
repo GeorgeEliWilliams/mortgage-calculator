{
 "cells": [
  {
   "cell_type": "code",
   "execution_count": 1,
   "id": "857e14e8",
   "metadata": {},
   "outputs": [],
   "source": [
    "#THIS PROGRAM CALCULATES THE TOTAL MONTHLY PAYMENT AFTER A LOAN"
   ]
  },
  {
   "cell_type": "code",
   "execution_count": 2,
   "id": "6aa6ae96",
   "metadata": {},
   "outputs": [],
   "source": [
    "# FORMULA FOR MORTGAGE CALCULATOR\n",
    "#M = P[i(1 + i)^n]/[(1 + i)^n-1] WHERE;\n",
    "\n",
    "#M= TOTAL MONTHLY PAYMENT,\n",
    "#P= THE TOTAL AMOUNT OF YOUR LOAN, \n",
    "#i= YOUR INTEREST RATE AS A MONTHLY PERCENTAGE,\n",
    "#N= THE TOTAL AMOUNT OF MONTHS IN YOUR TIMELINE FOR PAYING OFF YOUR MORTGAGE"
   ]
  },
  {
   "cell_type": "code",
   "execution_count": null,
   "id": "24ac0060",
   "metadata": {},
   "outputs": [],
   "source": [
    "#Input figures for all the unknown variables and convert them to floats\n",
    "loan_amount = float(input('What is the principal loan amount? :'))\n",
    "print(loan_amount)\n",
    "\n",
    "interest = float(input('What is the interest rate of the bank? :'))\n",
    "#convert the interest rate from percentage to decimal by dividing it by 100\n",
    "interest_rate = interest/100\n",
    "print(interest_rate)\n",
    "\n",
    "years = float(input('How many years will it take to ay off the loan? :'))\n",
    "print(years)"
   ]
  },
  {
   "cell_type": "code",
   "execution_count": null,
   "id": "94c0e5f3",
   "metadata": {},
   "outputs": [],
   "source": [
    "#formula to calculate monthly payment\n",
    "TOTAL_MONTHLY_PAYMENT = loan_amount*(interest_rate*(1 + interest_rate)**years)/((1 + interest_rate)**years-1)\n",
    "print('The total monthly payment is : ', TOTAL_MONTHLY_PAYMENT)\n",
    "print('For a '+str(years)+' year mortgage loan of $'+str(loan_amount)+\n",
    "      ' at an annual interest rate of '+str(interest_rate)+\n",
    "     ' you pay $'\n",
    "     +str(TOTAL_MONTHLY_PAYMENT)+' monthly')\n"
   ]
  },
  {
   "cell_type": "code",
   "execution_count": null,
   "id": "8819e77a",
   "metadata": {},
   "outputs": [],
   "source": []
  }
 ],
 "metadata": {
  "kernelspec": {
   "display_name": "Python 3 (ipykernel)",
   "language": "python",
   "name": "python3"
  },
  "language_info": {
   "codemirror_mode": {
    "name": "ipython",
    "version": 3
   },
   "file_extension": ".py",
   "mimetype": "text/x-python",
   "name": "python",
   "nbconvert_exporter": "python",
   "pygments_lexer": "ipython3",
   "version": "3.9.7"
  }
 },
 "nbformat": 4,
 "nbformat_minor": 5
}
